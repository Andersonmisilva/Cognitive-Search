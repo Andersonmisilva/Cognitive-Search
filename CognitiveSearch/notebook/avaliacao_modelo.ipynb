{
 "cells": [
  {
   "cell_type": "code",
   "execution_count": null,
   "metadata": {},
   "outputs": [],
   "source": [
    "# Importar bibliotecas necessárias\n",
    "from sklearn.metrics import confusion_matrix, classification_report\n",
    "\n",
    "# Avaliar o modelo usando matriz de confusão e relatório de classificação\n",
    "conf_matrix = confusion_matrix(y_test, y_pred)\n",
    "class_report = classification_report(y_test, y_pred)\n",
    "\n",
    "# Exibir os resultados\n",
    "print(f'Matriz de Confusão:\\n{conf_matrix}\\n')\n",
    "print(f'Relatório de Classificação:\\n{class_report}')\n"
   ]
  }
 ],
 "metadata": {
  "language_info": {
   "name": "python"
  }
 },
 "nbformat": 4,
 "nbformat_minor": 2
}
