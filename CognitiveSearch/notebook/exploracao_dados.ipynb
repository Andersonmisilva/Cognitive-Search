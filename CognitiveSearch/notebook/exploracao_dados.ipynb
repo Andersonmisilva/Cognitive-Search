{
 "cells": [
  {
   "cell_type": "code",
   "execution_count": null,
   "metadata": {},
   "outputs": [],
   "source": [
    "# Importar bibliotecas necessárias\n",
    "import pandas as pd\n",
    "\n",
    "# Carregar o conjunto de dados\n",
    "df = pd.read_csv('../data/dataset.csv')\n",
    "\n",
    "# Visualizar as primeiras linhas do conjunto de dados\n",
    "df.head()\n"
   ]
  }
 ],
 "metadata": {
  "language_info": {
   "name": "python"
  }
 },
 "nbformat": 4,
 "nbformat_minor": 2
}
